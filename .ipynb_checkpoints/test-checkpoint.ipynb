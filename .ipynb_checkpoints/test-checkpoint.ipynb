{
 "cells": [
  {
   "cell_type": "code",
   "execution_count": 1,
   "id": "2f4eb124-d24e-4bca-af74-91d83364e05e",
   "metadata": {},
   "outputs": [],
   "source": [
    "from DHFES import *"
   ]
  },
  {
   "cell_type": "code",
   "execution_count": 2,
   "id": "650141ac-0d89-445d-b54e-86f5be6a72a4",
   "metadata": {},
   "outputs": [],
   "source": [
    "x = randomDHFE(3)\n",
    "y = randomDHFE(3)"
   ]
  },
  {
   "cell_type": "code",
   "execution_count": 3,
   "id": "dc177033-3bcd-487d-b638-91eab5fe53f3",
   "metadata": {},
   "outputs": [
    {
     "name": "stdout",
     "output_type": "stream",
     "text": [
      "The cardinal number of  MD is 3\n",
      "The cardinal number of NMD is 1\n"
     ]
    },
    {
     "data": {
      "text/plain": [
       "\n",
       "DHFFE:{ MD: [0.0154 0.127  0.102 ],\n",
       "        NMD:[0.2332] }"
      ]
     },
     "execution_count": 3,
     "metadata": {},
     "output_type": "execute_result"
    }
   ],
   "source": [
    "x"
   ]
  },
  {
   "cell_type": "code",
   "execution_count": 4,
   "id": "258d8614-ecbf-436b-b20f-419e2c8df8e7",
   "metadata": {},
   "outputs": [
    {
     "name": "stdout",
     "output_type": "stream",
     "text": [
      "The cardinal number of  MD is 4\n",
      "The cardinal number of NMD is 3\n"
     ]
    },
    {
     "data": {
      "text/plain": [
       "\n",
       "DHFFE:{ MD: [0.4748 0.8039 0.443  0.3852],\n",
       "        NMD:[0.5833 0.1392 0.0261] }"
      ]
     },
     "execution_count": 4,
     "metadata": {},
     "output_type": "execute_result"
    }
   ],
   "source": [
    "y"
   ]
  },
  {
   "cell_type": "code",
   "execution_count": null,
   "id": "f82d627d-eb09-455c-b694-b73a3a0f2c60",
   "metadata": {},
   "outputs": [],
   "source": []
  },
  {
   "cell_type": "code",
   "execution_count": null,
   "id": "62f837b7-cf6a-4df0-b8b6-44aae1672c52",
   "metadata": {},
   "outputs": [],
   "source": []
  },
  {
   "cell_type": "code",
   "execution_count": null,
   "id": "e5a6191b-a559-40c3-9584-1167ef49ff24",
   "metadata": {},
   "outputs": [],
   "source": []
  },
  {
   "cell_type": "code",
   "execution_count": null,
   "id": "20ec2c6a-ad5d-4adb-9cd2-323c583d792f",
   "metadata": {},
   "outputs": [],
   "source": []
  },
  {
   "cell_type": "code",
   "execution_count": null,
   "id": "536e4170-0dbd-4ec4-8f2d-c232d0d3021d",
   "metadata": {},
   "outputs": [],
   "source": []
  },
  {
   "cell_type": "code",
   "execution_count": null,
   "id": "eb72766a-382b-4451-b269-eb0708db3ced",
   "metadata": {},
   "outputs": [],
   "source": []
  },
  {
   "cell_type": "code",
   "execution_count": null,
   "id": "ca36109c-5e9f-4b78-9c8a-feba49472318",
   "metadata": {},
   "outputs": [],
   "source": []
  },
  {
   "cell_type": "code",
   "execution_count": null,
   "id": "ea0d7809-8c3b-4485-814c-b54a4a8aad87",
   "metadata": {},
   "outputs": [],
   "source": []
  },
  {
   "cell_type": "code",
   "execution_count": null,
   "id": "f7dd9355-3e9c-4fad-b257-72c4b0b20048",
   "metadata": {},
   "outputs": [],
   "source": []
  },
  {
   "cell_type": "code",
   "execution_count": null,
   "id": "db55f03e-bd57-43c9-b619-de612066339a",
   "metadata": {},
   "outputs": [],
   "source": []
  },
  {
   "cell_type": "code",
   "execution_count": null,
   "id": "829c659e-c7af-45cd-b1c9-1e8b9ef3bb6e",
   "metadata": {},
   "outputs": [],
   "source": []
  },
  {
   "cell_type": "code",
   "execution_count": null,
   "id": "2c44a48c-45c1-45a5-bfb9-679b8f8f6b18",
   "metadata": {},
   "outputs": [],
   "source": []
  },
  {
   "cell_type": "code",
   "execution_count": null,
   "id": "6bc76daa-ff78-4c32-91c6-6d87541b784c",
   "metadata": {},
   "outputs": [],
   "source": []
  },
  {
   "cell_type": "code",
   "execution_count": null,
   "id": "d2b1bb27-4220-4d3b-ac83-17773f42f5d5",
   "metadata": {},
   "outputs": [],
   "source": []
  },
  {
   "cell_type": "code",
   "execution_count": null,
   "id": "93321a1d-09db-4315-9ef7-ef64d6f70534",
   "metadata": {},
   "outputs": [],
   "source": []
  },
  {
   "cell_type": "code",
   "execution_count": null,
   "id": "16b68198-bbb2-4b2c-80a7-528c725d70b3",
   "metadata": {},
   "outputs": [],
   "source": []
  },
  {
   "cell_type": "code",
   "execution_count": null,
   "id": "3fdd9d81-1e8e-4cbb-919d-5f476099c11c",
   "metadata": {},
   "outputs": [],
   "source": []
  },
  {
   "cell_type": "code",
   "execution_count": null,
   "id": "95315f67-710b-40a2-93dc-2568e4d7e806",
   "metadata": {},
   "outputs": [],
   "source": []
  }
 ],
 "metadata": {
  "kernelspec": {
   "display_name": "Python 3 (ipykernel)",
   "language": "python",
   "name": "python3"
  },
  "language_info": {
   "codemirror_mode": {
    "name": "ipython",
    "version": 3
   },
   "file_extension": ".py",
   "mimetype": "text/x-python",
   "name": "python",
   "nbconvert_exporter": "python",
   "pygments_lexer": "ipython3",
   "version": "3.8.12"
  }
 },
 "nbformat": 4,
 "nbformat_minor": 5
}
