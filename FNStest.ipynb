{
 "cells": [
  {
   "cell_type": "code",
   "execution_count": 1,
   "id": "9b173d05-dcb2-487d-bd26-2a75866f59e7",
   "metadata": {},
   "outputs": [],
   "source": [
    "# from FNS.PFN import *\n",
    "# from FNS.IVPFN import *\n",
    "# from FNS.PFN import *\n",
    "from FNS.IVPFN import *"
   ]
  },
  {
   "cell_type": "code",
   "execution_count": null,
   "id": "843291dc-d36a-492f-b770-0896bd341703",
   "metadata": {},
   "outputs": [],
   "source": []
  },
  {
   "cell_type": "code",
   "execution_count": null,
   "id": "78fd0c7f-58d2-4a66-ba7a-877c8fb38bda",
   "metadata": {},
   "outputs": [],
   "source": []
  },
  {
   "cell_type": "code",
   "execution_count": null,
   "id": "60b970fc-6279-4f73-a8cc-589fe817d921",
   "metadata": {},
   "outputs": [],
   "source": []
  },
  {
   "cell_type": "code",
   "execution_count": null,
   "id": "e52f735e-880d-4324-be83-75e08904ed3f",
   "metadata": {},
   "outputs": [],
   "source": []
  },
  {
   "cell_type": "code",
   "execution_count": null,
   "id": "d2b735d7-2d4b-4fee-8531-5b2da0287989",
   "metadata": {},
   "outputs": [],
   "source": []
  },
  {
   "cell_type": "code",
   "execution_count": null,
   "id": "db16cdee-69b1-47b3-83d3-181d4ac4cf7b",
   "metadata": {},
   "outputs": [],
   "source": []
  },
  {
   "cell_type": "code",
   "execution_count": null,
   "id": "2c06b210-2c3d-4f16-b5ee-f17f4c57ef66",
   "metadata": {},
   "outputs": [],
   "source": []
  },
  {
   "cell_type": "code",
   "execution_count": null,
   "id": "fd13873d-478b-448b-b317-33fb653c70f3",
   "metadata": {},
   "outputs": [],
   "source": []
  },
  {
   "cell_type": "code",
   "execution_count": null,
   "id": "650c8e72-4ed5-472d-a27a-dcc221db7183",
   "metadata": {},
   "outputs": [],
   "source": []
  },
  {
   "cell_type": "code",
   "execution_count": null,
   "id": "c076311a-0343-45e9-9308-90dce5e8a0cd",
   "metadata": {},
   "outputs": [],
   "source": []
  }
 ],
 "metadata": {
  "kernelspec": {
   "display_name": "Python 3",
   "language": "python",
   "name": "python3"
  },
  "language_info": {
   "codemirror_mode": {
    "name": "ipython",
    "version": 3
   },
   "file_extension": ".py",
   "mimetype": "text/x-python",
   "name": "python",
   "nbconvert_exporter": "python",
   "pygments_lexer": "ipython3",
   "version": "3.9.13"
  }
 },
 "nbformat": 4,
 "nbformat_minor": 5
}
