{
 "cells": [
  {
   "cell_type": "code",
   "execution_count": null,
   "id": "e541d087-88ab-4c71-9a93-70c1274233bf",
   "metadata": {},
   "outputs": [],
   "source": [
    "from FNS import *"
   ]
  },
  {
   "cell_type": "code",
   "execution_count": null,
   "id": "598034f6-8747-4142-9328-92d04702ccf2",
   "metadata": {},
   "outputs": [],
   "source": [
    "x1 = IFN(0.5,0.3)"
   ]
  },
  {
   "cell_type": "code",
   "execution_count": null,
   "id": "6f42b2e3-0d91-4fc5-86cf-4a0d20f95bce",
   "metadata": {},
   "outputs": [],
   "source": [
    "x1.show()"
   ]
  },
  {
   "cell_type": "code",
   "execution_count": null,
   "id": "f2c4da96-f2fe-40c7-87c8-35c489d6b6e1",
   "metadata": {},
   "outputs": [],
   "source": [
    "x2 = IVIFN(0.2,0.3,0.5,0.6)"
   ]
  },
  {
   "cell_type": "code",
   "execution_count": null,
   "id": "8f0ed1c4-5462-4bb7-a71b-3a2e5af31028",
   "metadata": {},
   "outputs": [],
   "source": []
  },
  {
   "cell_type": "code",
   "execution_count": null,
   "id": "721edaa8-eb7a-4670-9337-748670300d98",
   "metadata": {},
   "outputs": [],
   "source": []
  },
  {
   "cell_type": "code",
   "execution_count": null,
   "id": "fd13873d-478b-448b-b317-33fb653c70f3",
   "metadata": {},
   "outputs": [],
   "source": []
  },
  {
   "cell_type": "code",
   "execution_count": null,
   "id": "650c8e72-4ed5-472d-a27a-dcc221db7183",
   "metadata": {},
   "outputs": [],
   "source": []
  },
  {
   "cell_type": "code",
   "execution_count": null,
   "id": "c076311a-0343-45e9-9308-90dce5e8a0cd",
   "metadata": {},
   "outputs": [],
   "source": []
  }
 ],
 "metadata": {
  "kernelspec": {
   "display_name": "Python 3 (ipykernel)",
   "language": "python",
   "name": "python3"
  },
  "language_info": {
   "codemirror_mode": {
    "name": "ipython",
    "version": 3
   },
   "file_extension": ".py",
   "mimetype": "text/x-python",
   "name": "python",
   "nbconvert_exporter": "python",
   "pygments_lexer": "ipython3",
   "version": "3.8.12"
  }
 },
 "nbformat": 4,
 "nbformat_minor": 5
}
