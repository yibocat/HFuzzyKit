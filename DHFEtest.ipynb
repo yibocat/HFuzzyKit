{
 "cells": [
  {
   "cell_type": "code",
   "execution_count": null,
   "id": "5c4b1cd5",
   "metadata": {},
   "outputs": [],
   "source": [
    "from DHFES import *\n",
    "import numpy as np\n",
    "from matplotlib import pyplot as plt"
   ]
  },
  {
   "cell_type": "code",
   "execution_count": null,
   "id": "a803c06b",
   "metadata": {},
   "outputs": [],
   "source": [
    "def func_test(x,*p):\n",
    "    '''\n",
    "        测试隶属函数\n",
    "    '''\n",
    "    return 1/(p[0]*x**2+p[1]*x+p[2])"
   ]
  },
  {
   "cell_type": "code",
   "execution_count": null,
   "id": "fbf27ba4",
   "metadata": {},
   "outputs": [],
   "source": [
    "x = DHFEGenerator(3,True)"
   ]
  },
  {
   "cell_type": "code",
   "execution_count": null,
   "id": "87e779df",
   "metadata": {},
   "outputs": [],
   "source": [
    "x.MFgeneratorSet(func_test,3,[[2,5,3],[2,6,7],[2,2,5]])\n",
    "x.NMFgeneratorSet(func_test,2,[[3,2,3],[2,2,2]])\n",
    "x.set_Variable(0,10,100)\n",
    "x.generator_function()"
   ]
  },
  {
   "cell_type": "code",
   "execution_count": null,
   "id": "0e2029e1",
   "metadata": {},
   "outputs": [],
   "source": [
    "x.MF_NMF_Plot()"
   ]
  },
  {
   "cell_type": "code",
   "execution_count": null,
   "id": "b0a0ead3",
   "metadata": {},
   "outputs": [],
   "source": [
    "x.generator_DHFE(2.2,1.8)"
   ]
  },
  {
   "cell_type": "code",
   "execution_count": null,
   "id": "5559668a",
   "metadata": {},
   "outputs": [],
   "source": []
  }
 ],
 "metadata": {
  "kernelspec": {
   "display_name": "Python 3.9.13 ('dataocean')",
   "language": "python",
   "name": "python3"
  },
  "language_info": {
   "codemirror_mode": {
    "name": "ipython",
    "version": 3
   },
   "file_extension": ".py",
   "mimetype": "text/x-python",
   "name": "python",
   "nbconvert_exporter": "python",
   "pygments_lexer": "ipython3",
   "version": "3.9.13"
  },
  "vscode": {
   "interpreter": {
    "hash": "07215fb227a9cbc0ee62e1c57ec8778c4258d9a3f48344a24b3b9c4db87ea767"
   }
  }
 },
 "nbformat": 4,
 "nbformat_minor": 5
}
