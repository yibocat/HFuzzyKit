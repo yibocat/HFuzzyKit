{
 "cells": [
  {
   "cell_type": "code",
   "execution_count": null,
   "id": "3dc3d768-ad79-4552-81d4-6847ad387ff2",
   "metadata": {},
   "outputs": [],
   "source": [
    "from IVFNS import *"
   ]
  },
  {
   "cell_type": "code",
   "execution_count": null,
   "id": "38fec894",
   "metadata": {},
   "outputs": [],
   "source": [
    "def test_func(x,*p):\n",
    "    return 1/(p[0]*x+p[1])"
   ]
  },
  {
   "cell_type": "code",
   "execution_count": null,
   "id": "e8b007be",
   "metadata": {},
   "outputs": [],
   "source": [
    "x = IVFNGenerator(2,True)"
   ]
  },
  {
   "cell_type": "code",
   "execution_count": null,
   "id": "fab0062f",
   "metadata": {},
   "outputs": [],
   "source": [
    "x"
   ]
  },
  {
   "cell_type": "code",
   "execution_count": null,
   "id": "938c8b0d",
   "metadata": {},
   "outputs": [],
   "source": [
    "x.MFgeneratorSet(test_func,[2,3],[5,5])\n",
    "x.NMFgeneratorSet(test_func,[3,4],[6,7])"
   ]
  },
  {
   "cell_type": "code",
   "execution_count": null,
   "id": "308bc0c4",
   "metadata": {},
   "outputs": [],
   "source": [
    "x.set_Variable(0,10,1000)\n",
    "x.generator_function()"
   ]
  },
  {
   "cell_type": "code",
   "execution_count": null,
   "id": "418d4d0b",
   "metadata": {},
   "outputs": [],
   "source": [
    "x.MF_NMF_Plot()"
   ]
  },
  {
   "cell_type": "code",
   "execution_count": null,
   "id": "aaae7eea",
   "metadata": {},
   "outputs": [],
   "source": [
    "x.generator_IVFN(2,4)"
   ]
  },
  {
   "cell_type": "code",
   "execution_count": null,
   "id": "c1d5d3af",
   "metadata": {},
   "outputs": [],
   "source": []
  }
 ],
 "metadata": {
  "kernelspec": {
   "display_name": "Python 3.9.13 ('dataocean')",
   "language": "python",
   "name": "python3"
  },
  "language_info": {
   "codemirror_mode": {
    "name": "ipython",
    "version": 3
   },
   "file_extension": ".py",
   "mimetype": "text/x-python",
   "name": "python",
   "nbconvert_exporter": "python",
   "pygments_lexer": "ipython3",
   "version": "3.9.13"
  },
  "vscode": {
   "interpreter": {
    "hash": "07215fb227a9cbc0ee62e1c57ec8778c4258d9a3f48344a24b3b9c4db87ea767"
   }
  }
 },
 "nbformat": 4,
 "nbformat_minor": 5
}
