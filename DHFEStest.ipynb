{
 "cells": [
  {
   "cell_type": "code",
   "execution_count": 8,
   "id": "661b7bd1-25da-4c52-8317-b78058877b1b",
   "metadata": {},
   "outputs": [],
   "source": [
    "from DHFES import *"
   ]
  },
  {
   "cell_type": "code",
   "execution_count": 9,
   "id": "43f00696-d60a-426a-8239-7db41c50b6cd",
   "metadata": {},
   "outputs": [],
   "source": [
    "x1 = DHFFE([0.8,0.6],[0.5,0.2])\n",
    "x2 = DHFFE([0.6,0.5],[0.3])"
   ]
  },
  {
   "cell_type": "code",
   "execution_count": 10,
   "id": "02b61924-cb0c-40db-857a-3769be985325",
   "metadata": {},
   "outputs": [
    {
     "name": "stdout",
     "output_type": "stream",
     "text": [
      "The cardinal number of  MD is 4\n",
      "The cardinal number of NMD is 2\n"
     ]
    },
    {
     "data": {
      "text/plain": [
       "\n",
       "DHFFE:{ MD: [0.8515 0.8306 0.7277 0.6797],\n",
       "        NMD:[0.15 0.06] }"
      ]
     },
     "execution_count": 10,
     "metadata": {},
     "output_type": "execute_result"
    }
   ],
   "source": [
    "DHFFE_Algebraic_Plus(x1,x2)"
   ]
  },
  {
   "cell_type": "code",
   "execution_count": null,
   "id": "13250693-7e3f-418a-bc2f-89c8aac00530",
   "metadata": {},
   "outputs": [],
   "source": []
  },
  {
   "cell_type": "code",
   "execution_count": null,
   "id": "9d9c7a2a-35df-49aa-9632-ef99a7c702a7",
   "metadata": {},
   "outputs": [],
   "source": []
  },
  {
   "cell_type": "code",
   "execution_count": null,
   "id": "76919a26-b878-4e0c-b270-0cd0e36f6aa6",
   "metadata": {},
   "outputs": [],
   "source": []
  },
  {
   "cell_type": "code",
   "execution_count": null,
   "id": "07f99800-d5c4-4e69-a420-676ab13cd1d0",
   "metadata": {},
   "outputs": [],
   "source": []
  },
  {
   "cell_type": "code",
   "execution_count": null,
   "id": "4270f8cd-6738-4b83-8dc6-b642463b138a",
   "metadata": {},
   "outputs": [],
   "source": []
  },
  {
   "cell_type": "code",
   "execution_count": null,
   "id": "84c4103e-cb29-4a77-8049-b5af4e936c75",
   "metadata": {},
   "outputs": [],
   "source": []
  },
  {
   "cell_type": "code",
   "execution_count": null,
   "id": "1f22a02b-9aad-47e4-aaf2-2e3e4e0d0f90",
   "metadata": {},
   "outputs": [],
   "source": []
  },
  {
   "cell_type": "code",
   "execution_count": null,
   "id": "9a31d0e1-83db-473d-bba5-f2257655db1c",
   "metadata": {},
   "outputs": [],
   "source": []
  }
 ],
 "metadata": {
  "kernelspec": {
   "display_name": "Python 3",
   "language": "python",
   "name": "python3"
  },
  "language_info": {
   "codemirror_mode": {
    "name": "ipython",
    "version": 3
   },
   "file_extension": ".py",
   "mimetype": "text/x-python",
   "name": "python",
   "nbconvert_exporter": "python",
   "pygments_lexer": "ipython3",
   "version": "3.9.13"
  },
  "vscode": {
   "interpreter": {
    "hash": "07215fb227a9cbc0ee62e1c57ec8778c4258d9a3f48344a24b3b9c4db87ea767"
   }
  }
 },
 "nbformat": 4,
 "nbformat_minor": 5
}
