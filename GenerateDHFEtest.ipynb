{
 "cells": [
  {
   "cell_type": "code",
   "execution_count": null,
   "id": "2f4eb124-d24e-4bca-af74-91d83364e05e",
   "metadata": {},
   "outputs": [],
   "source": [
    "# from DHFES import *\n",
    "from DHFES.DHFEGenerator import *\n",
    "import numpy as np\n",
    "from matplotlib import pyplot as plt\n",
    "%matplotlib inline"
   ]
  },
  {
   "cell_type": "code",
   "execution_count": null,
   "id": "45c409c5-3a09-4eda-b1b4-4d362be888ec",
   "metadata": {},
   "outputs": [],
   "source": [
    "x = DHFEGenerator(3)   ## 创建一个对偶犹豫费马模糊元素生成器"
   ]
  },
  {
   "cell_type": "code",
   "execution_count": null,
   "id": "f0d08f9f-1add-478f-b2de-7b425c6324b6",
   "metadata": {},
   "outputs": [],
   "source": [
    "x.set_MF('smf')   ## S-型函数\n",
    "x.set_NMF('smf')\n",
    "x.set_MF_Num(3)   ## 隶属度个数为 3 个\n",
    "x.set_NMF_Num(4)  ## 非隶属度个数为 4 个\n",
    "x.set_MF_parameters([(2,6),(3,7),(3,9)])           ## 隶属函数参数\n",
    "x.set_NMF_parameters([(1,6),(2,8),(2,6),(4,9)])    ## 非隶属函数参数\n",
    "\n",
    "x.set_Variable(0,10,100)   ## 设置变量范围区间\n",
    "x.generator_function()     ## 生成隶属度和非隶属度函数"
   ]
  },
  {
   "cell_type": "code",
   "execution_count": null,
   "id": "00d4c046-e116-433b-8a6b-a809b65c8ede",
   "metadata": {},
   "outputs": [],
   "source": [
    "x.MF_NMF_Plot()"
   ]
  },
  {
   "cell_type": "code",
   "execution_count": null,
   "id": "85f8d2a8-6d6c-4028-86d3-b5ea4ac46419",
   "metadata": {},
   "outputs": [],
   "source": [
    "p = x.generator_DHFE(4.7,4.2)  ## 隶属度精确值为 4.7，非隶属度精确值为 4.2"
   ]
  },
  {
   "cell_type": "code",
   "execution_count": null,
   "id": "f14aba6f-8ff8-4947-8bee-6f97b0676d99",
   "metadata": {},
   "outputs": [],
   "source": [
    "p"
   ]
  },
  {
   "cell_type": "code",
   "execution_count": null,
   "id": "f08d03b7-4048-442c-9f35-20e8bbfc3e2d",
   "metadata": {},
   "outputs": [],
   "source": []
  },
  {
   "cell_type": "code",
   "execution_count": null,
   "id": "f27fb8ed-fe33-4335-a4af-420c47cd3666",
   "metadata": {},
   "outputs": [],
   "source": []
  },
  {
   "cell_type": "code",
   "execution_count": null,
   "id": "21a183f3-fc26-46b6-b41c-542a7d5e4f8b",
   "metadata": {},
   "outputs": [],
   "source": []
  },
  {
   "cell_type": "code",
   "execution_count": null,
   "id": "42b032a5-364f-4e61-aad7-516c8edc4f39",
   "metadata": {},
   "outputs": [],
   "source": []
  }
 ],
 "metadata": {
  "kernelspec": {
   "display_name": "Python 3 (ipykernel)",
   "language": "python",
   "name": "python3"
  },
  "language_info": {
   "codemirror_mode": {
    "name": "ipython",
    "version": 3
   },
   "file_extension": ".py",
   "mimetype": "text/x-python",
   "name": "python",
   "nbconvert_exporter": "python",
   "pygments_lexer": "ipython3",
   "version": "3.8.12"
  },
  "vscode": {
   "interpreter": {
    "hash": "cee2e5c786832024d2415e640723866c22ce74ec891f4b35caef2801af6424c6"
   }
  }
 },
 "nbformat": 4,
 "nbformat_minor": 5
}
