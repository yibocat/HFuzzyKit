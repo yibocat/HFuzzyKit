{
 "cells": [
  {
   "cell_type": "code",
   "execution_count": 1,
   "id": "278aa05f-9b6d-4a76-a708-ec674b94d618",
   "metadata": {},
   "outputs": [],
   "source": [
    "from FNS import *"
   ]
  },
  {
   "cell_type": "code",
   "execution_count": 2,
   "id": "8721e7c7-fd26-4ae0-9830-eef3fc70eca8",
   "metadata": {},
   "outputs": [],
   "source": [
    "x = FFN(0.7,0.4)"
   ]
  },
  {
   "cell_type": "code",
   "execution_count": 4,
   "id": "9055e3b3-f59d-48ce-86de-fd159918dfc4",
   "metadata": {},
   "outputs": [
    {
     "data": {
      "text/plain": [
       "FFN:(0.0913,0.6767)"
      ]
     },
     "execution_count": 4,
     "metadata": {},
     "output_type": "execute_result"
    }
   ],
   "source": [
    "x.Fast_Einstein_Power(5)"
   ]
  },
  {
   "cell_type": "code",
   "execution_count": 6,
   "id": "653a930b-84ed-4afb-9097-fada5aa3d19a",
   "metadata": {},
   "outputs": [
    {
     "data": {
      "text/plain": [
       "FFN:(0.49,0.4985)"
      ]
     },
     "execution_count": 6,
     "metadata": {},
     "output_type": "execute_result"
    }
   ],
   "source": [
    "FFN_Algebraic_Multiply(x,x)"
   ]
  },
  {
   "cell_type": "code",
   "execution_count": null,
   "id": "3dc3d768-ad79-4552-81d4-6847ad387ff2",
   "metadata": {},
   "outputs": [],
   "source": []
  },
  {
   "cell_type": "code",
   "execution_count": null,
   "id": "c47f5211-c485-4896-a8ba-c39ce850d456",
   "metadata": {},
   "outputs": [],
   "source": []
  },
  {
   "cell_type": "code",
   "execution_count": null,
   "id": "4db85295-9ea4-495e-8b28-28d04903a9b3",
   "metadata": {},
   "outputs": [],
   "source": []
  },
  {
   "cell_type": "code",
   "execution_count": null,
   "id": "77c4c26f-87e5-4b03-85a5-61d4d1cb31bd",
   "metadata": {},
   "outputs": [],
   "source": []
  },
  {
   "cell_type": "code",
   "execution_count": null,
   "id": "1d6ef2e9-3ee8-4ef5-b1fa-bc7f5cdeb358",
   "metadata": {},
   "outputs": [],
   "source": []
  }
 ],
 "metadata": {
  "kernelspec": {
   "display_name": "Python 3.9.13 ('dataocean')",
   "language": "python",
   "name": "python3"
  },
  "language_info": {
   "codemirror_mode": {
    "name": "ipython",
    "version": 3
   },
   "file_extension": ".py",
   "mimetype": "text/x-python",
   "name": "python",
   "nbconvert_exporter": "python",
   "pygments_lexer": "ipython3",
   "version": "3.9.13"
  },
  "vscode": {
   "interpreter": {
    "hash": "07215fb227a9cbc0ee62e1c57ec8778c4258d9a3f48344a24b3b9c4db87ea767"
   }
  }
 },
 "nbformat": 4,
 "nbformat_minor": 5
}
