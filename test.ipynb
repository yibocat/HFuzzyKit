{
 "cells": [
  {
   "cell_type": "code",
   "execution_count": 5,
   "id": "921c130a-2114-480d-85ac-c67ad5fb8c76",
   "metadata": {},
   "outputs": [],
   "source": [
    "import math\n",
    "from math import pow\n",
    "from FNS.FNs import *\n",
    "\n",
    "from FNS.FNsTSOperations import *\n",
    "\n",
    "# from DHFES.DHFEs import *\n",
    "# from DHFES.DHFEsTSOperations import *\n",
    "# from DHFES.DHFEUtils import *\n",
    "\n",
    "from DHFES import *"
   ]
  },
  {
   "cell_type": "code",
   "execution_count": null,
   "id": "091e4855-87d7-4dde-8192-bfbc1b6acad4",
   "metadata": {},
   "outputs": [],
   "source": []
  },
  {
   "cell_type": "code",
   "execution_count": 6,
   "id": "b37fb8d4-9381-4f5a-91e0-89f1c48e3204",
   "metadata": {},
   "outputs": [],
   "source": [
    "x = DHFFE([0.3,0.4,0.5],[0.6,0.2,0.1])"
   ]
  },
  {
   "cell_type": "code",
   "execution_count": 7,
   "id": "c8597ffe-e316-48e6-a5f6-c22fd2ff8f57",
   "metadata": {},
   "outputs": [
    {
     "name": "stdout",
     "output_type": "stream",
     "text": [
      "DHFFE:{\n",
      "MD: [0.3, 0.4, 0.5],\n",
      "NMD:[0.6, 0.2, 0.1]}\n",
      "\n",
      "\n",
      "The cardinal number of  MD is 3\n",
      "The cardinal number of NMD is 3\n"
     ]
    }
   ],
   "source": [
    "x.show()"
   ]
  },
  {
   "cell_type": "code",
   "execution_count": null,
   "id": "78f7c5e4-95c1-4c34-b5f9-dcef8dfc046d",
   "metadata": {},
   "outputs": [],
   "source": []
  },
  {
   "cell_type": "code",
   "execution_count": 9,
   "id": "82bb19ee-e9ec-4aed-93d1-d490ea7cc68a",
   "metadata": {},
   "outputs": [
    {
     "name": "stdout",
     "output_type": "stream",
     "text": [
      "DHFFE:{\n",
      "MD: [0.3, 0.4, 0.5],\n",
      "NMD:[0.1, 0.2, 0.6]}\n",
      "\n",
      "\n",
      "The cardinal number of  MD is 3\n",
      "The cardinal number of NMD is 3\n"
     ]
    }
   ],
   "source": [
    "DHFFEs_Qsort(x).show()"
   ]
  },
  {
   "cell_type": "code",
   "execution_count": null,
   "id": "465963f5-62fc-47ad-be52-29051d88e246",
   "metadata": {},
   "outputs": [],
   "source": []
  },
  {
   "cell_type": "code",
   "execution_count": null,
   "id": "09b13436-4eca-46b2-a83c-081cae135422",
   "metadata": {},
   "outputs": [],
   "source": []
  },
  {
   "cell_type": "code",
   "execution_count": null,
   "id": "2d38fb0c-3e55-4ce5-9dff-63385278ab4e",
   "metadata": {},
   "outputs": [],
   "source": []
  },
  {
   "cell_type": "code",
   "execution_count": null,
   "id": "7a611cb2-2213-4b7b-a726-a09ebf03b63f",
   "metadata": {},
   "outputs": [],
   "source": []
  },
  {
   "cell_type": "code",
   "execution_count": null,
   "id": "8582e11a-e80e-4955-be11-37876684babd",
   "metadata": {},
   "outputs": [],
   "source": []
  },
  {
   "cell_type": "code",
   "execution_count": null,
   "id": "1bb3ba8e-6933-4f88-9c4e-2f22d6ed74ff",
   "metadata": {},
   "outputs": [],
   "source": []
  },
  {
   "cell_type": "code",
   "execution_count": null,
   "id": "265ec6d9-d842-4184-9fae-7c67d9ffb657",
   "metadata": {},
   "outputs": [],
   "source": []
  },
  {
   "cell_type": "code",
   "execution_count": null,
   "id": "1e518aee-2b0c-407c-9b23-94a5d0331872",
   "metadata": {},
   "outputs": [],
   "source": []
  }
 ],
 "metadata": {
  "kernelspec": {
   "display_name": "Python 3 (ipykernel)",
   "language": "python",
   "name": "python3"
  },
  "language_info": {
   "codemirror_mode": {
    "name": "ipython",
    "version": 3
   },
   "file_extension": ".py",
   "mimetype": "text/x-python",
   "name": "python",
   "nbconvert_exporter": "python",
   "pygments_lexer": "ipython3",
   "version": "3.8.12"
  }
 },
 "nbformat": 4,
 "nbformat_minor": 5
}
