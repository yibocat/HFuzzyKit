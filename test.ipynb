{
 "cells": [
  {
   "cell_type": "code",
   "execution_count": 11,
   "id": "921c130a-2114-480d-85ac-c67ad5fb8c76",
   "metadata": {},
   "outputs": [],
   "source": [
    "import math\n",
    "from math import pow\n",
    "from FNS.FNs import *\n",
    "\n",
    "from FNS.FNsTSOperations import *\n",
    "\n",
    "from DHFES.DHFEs import *\n",
    "from DHFES.DHFEsTSOperations import *\n",
    "from DHFES.DHFEUtils import *"
   ]
  },
  {
   "cell_type": "code",
   "execution_count": null,
   "id": "1e518aee-2b0c-407c-9b23-94a5d0331872",
   "metadata": {},
   "outputs": [],
   "source": []
  },
  {
   "cell_type": "code",
   "execution_count": null,
   "id": "d63eeb08-9aad-4826-9fa2-61300e42b196",
   "metadata": {},
   "outputs": [],
   "source": []
  },
  {
   "cell_type": "code",
   "execution_count": null,
   "id": "ca74c3bf-bd85-4e8d-ad56-15c806f14667",
   "metadata": {},
   "outputs": [],
   "source": []
  },
  {
   "cell_type": "code",
   "execution_count": null,
   "id": "7a170830-23bc-4be3-a693-7b81e8486903",
   "metadata": {},
   "outputs": [],
   "source": []
  },
  {
   "cell_type": "code",
   "execution_count": null,
   "id": "812bcc7b-a49d-4c81-b130-f6d1ee81fd0a",
   "metadata": {},
   "outputs": [],
   "source": []
  },
  {
   "cell_type": "code",
   "execution_count": null,
   "id": "8bad7e4b-4104-4980-8039-f7fd146e60c8",
   "metadata": {},
   "outputs": [],
   "source": []
  },
  {
   "cell_type": "code",
   "execution_count": null,
   "id": "e2e4013b-ce07-4fd2-b841-1f5b43110cef",
   "metadata": {},
   "outputs": [],
   "source": []
  },
  {
   "cell_type": "code",
   "execution_count": null,
   "id": "052e9fef-d93b-4ffe-a6e5-59ecfac2b97f",
   "metadata": {},
   "outputs": [],
   "source": []
  }
 ],
 "metadata": {
  "kernelspec": {
   "display_name": "Python 3 (ipykernel)",
   "language": "python",
   "name": "python3"
  },
  "language_info": {
   "codemirror_mode": {
    "name": "ipython",
    "version": 3
   },
   "file_extension": ".py",
   "mimetype": "text/x-python",
   "name": "python",
   "nbconvert_exporter": "python",
   "pygments_lexer": "ipython3",
   "version": "3.8.12"
  }
 },
 "nbformat": 4,
 "nbformat_minor": 5
}
