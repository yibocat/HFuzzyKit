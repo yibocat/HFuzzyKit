{
 "cells": [
  {
   "cell_type": "code",
   "execution_count": 1,
   "id": "2f4eb124-d24e-4bca-af74-91d83364e05e",
   "metadata": {},
   "outputs": [],
   "source": [
    "from DHFES import *\n",
    "from DHFES.membershipFun import *\n",
    "import numpy as np\n",
    "from matplotlib import pyplot as plt\n",
    "%matplotlib inline"
   ]
  },
  {
   "cell_type": "code",
   "execution_count": null,
   "id": "72d913ea-89b0-4aef-9146-b0f5002cac64",
   "metadata": {},
   "outputs": [],
   "source": [
    "xp = np.linspace(0,100,1000)"
   ]
  },
  {
   "cell_type": "code",
   "execution_count": null,
   "id": "995a406f-56f6-4885-9399-be1d361f1bf8",
   "metadata": {},
   "outputs": [],
   "source": [
    "y1 = gaussmf(xp,50,10)\n",
    "y2 = gaussmf(xp,48,15)\n",
    "y3 = gaussmf(xp,45,17)\n",
    "\n",
    "plt.figure(figsize=(8,5))\n",
    "plt.plot(xp,y1,label='membership degree1')\n",
    "plt.plot(xp,y2,label='membership degree2')\n",
    "plt.plot(xp,y3,label='membership degree3')\n",
    "\n",
    "plt.legend()"
   ]
  },
  {
   "cell_type": "code",
   "execution_count": null,
   "id": "5edb4024-d2ad-4190-8a04-571286875ace",
   "metadata": {},
   "outputs": [],
   "source": [
    "x = 80\n",
    "md1 = gaussmf(x,50,10)\n",
    "md2 = gaussmf(x,48,15)\n",
    "md3 = gaussmf(x,45,5)\n",
    "\n",
    "md = [md1,md2,md3]\n",
    "MD = np.array(md)"
   ]
  },
  {
   "cell_type": "code",
   "execution_count": null,
   "id": "d688407b-b034-4e70-8407-1e3baf00078d",
   "metadata": {},
   "outputs": [],
   "source": []
  },
  {
   "cell_type": "code",
   "execution_count": 274,
   "id": "fa053efe-5f95-4965-8985-58ca4894ebdc",
   "metadata": {},
   "outputs": [],
   "source": [
    "from DHFES.membershipFun import *\n",
    "import numpy as np\n",
    "from matplotlib import pyplot as plt\n",
    "\n",
    "class MemshipFC(object):\n",
    "    memFunc = ''\n",
    "    parameter = []\n",
    "    numFunc = 0\n",
    "    \n",
    "    _variable_start = 0\n",
    "    _variable_end = 1\n",
    "    _linspace = 100\n",
    "    \n",
    "    def __init__(self,memFunc,parameter,numFunc):\n",
    "        \"\"\"\n",
    "            Set membership conditions：\n",
    "            ===============================================\n",
    "            Parameter:\n",
    "                sigmf:   (a,b)     ->[(a,b)]     ->tuple /\n",
    "                trimf:   [a,b,c]   ->[[a,b,c]]   ->list  /\n",
    "                zmf:     (a,b)     ->[(a,b)]     ->tuple /\n",
    "                trapmf:  [a,b,c,d] ->[[a,b,c,d]] ->list\n",
    "                smf:     (a,b)     ->[(a,b)]     ->tuple /\n",
    "                gaussmf: (a,b)     ->[(a,b)]     ->tuple /\n",
    "                gauss2mf:(a,b,c,d) ->[(a,b,c,d)] ->tuple /\n",
    "                gbellmf: (a,b,c)   ->[(a,b,c)]   ->tuple /\n",
    "        \"\"\"\n",
    "        assert len(parameter) == numFunc,\\\n",
    "        'ERROR!The number of parameters is not equal to numFunc! numFunc=%d means you should create %d sets of parameters'%(numFunc,numFunc)\n",
    "        if memFunc == 'sigmf' or memFunc == 'zmf' or memFunc == 'smf' or memFunc == 'gaussmf':\n",
    "            for para in parameter:\n",
    "                assert type(para) == tuple, 'ERROR:The %s function\\'s parameter type is error!Parameter type should be tuple!'%memFunc\n",
    "                assert len(para) == 2,'ERROR:The number of the %s function is error!The number of parameters should be 2'%memFunc\n",
    "        if memFunc == 'gauss2mf':\n",
    "            for para in parameter:\n",
    "                assert type(para) == tuple,'ERROR:The %s function\\'s parameter type is error!Parameter type should be tuple!'%memFunc\n",
    "                assert len(para) == 4,'ERROR:The number of the %s function is error!The number of parameters should be 4'%memFunc\n",
    "        if memFunc == 'gbellmf':\n",
    "            for para in parameter:\n",
    "                assert type(para) == tuple,'ERROR:The %s function\\'s parameter type is error!Parameter type should be tuple!'%memFunc\n",
    "                assert len(para) == 3,'ERROR:The number of the %s function is error!The number of parameters should be 3'%memFunc\n",
    "        if memFunc == 'trimf':\n",
    "            for para in parameter:\n",
    "                assert type(para) == list,'ERROR:The %s function\\'s parameter type is error!Parameter type should be list!'%memFunc\n",
    "                assert len(para) == 3,'ERROR:The number of the %s function is error!The number of parameters should be 3'%memFunc\n",
    "        if memFunc == 'trapmf':\n",
    "            for para in parameter:\n",
    "                assert type(para) == list,'ERROR:The %s function\\'s parameter type is error!Parameter type should be list!'%memFunc\n",
    "                assert len(para) == 4,'ERROR:The number of the %s function is error!The number of parameters should be 4'%memFunc\n",
    "\n",
    "        self.memFunc = memFunc\n",
    "        self.parameter = parameter\n",
    "        self.numFunc = numFunc\n",
    "        \n",
    "    def __repr__(self):\n",
    "        \"\"\"\n",
    "            Print information of membership function.\n",
    "        \"\"\"\n",
    "        s = ''\n",
    "        for i in range(self.numFunc):\n",
    "            s+='Membership function %d: %s, parameter:%s \\n'%(i+1,self.memFunc,self.parameter[i])\n",
    "        return s\n",
    "        \n",
    "    def setvariable(self,start,end,linspace):\n",
    "        \"\"\"\n",
    "            设置自变量变化范围，返回一个 start-end ，间隔为 linspace 的 array\n",
    "            该函数用来生成隶属函数实例的空间范围\n",
    "        \"\"\"\n",
    "        self._variable_start = start\n",
    "        self._variable_end = end\n",
    "        self._linspace = linspace\n",
    "        print ('Successful seted!')\n",
    "        \n",
    "    def MF_Plot(self):\n",
    "        \"\"\"\n",
    "            画出隶属度曲线图，方便设置可能隶属度\n",
    "        \"\"\"\n",
    "        x = np.linspace(self._variable_start,self._variable_end,self._linspace)\n",
    "        y = []\n",
    "        for i in range(self.numFunc):\n",
    "            if self.memFunc == 'sigmf':\n",
    "                y.append(sigmf(x,self.parameter[i][0],self.parameter[i][1]))\n",
    "            if self.memFunc == 'zmf':\n",
    "                y.append(zmf(x,self.parameter[i][0],self.parameter[i][1]))\n",
    "            if self.memFunc == 'smf':\n",
    "                y.append(smf(x,self.parameter[i][0],self.parameter[i][1]))\n",
    "            if self.memFunc == 'gaussmf':\n",
    "                y.append(gaussmf(x,self.parameter[i][0],self.parameter[i][1]))\n",
    "            if self.memFunc == 'gauss2mf':\n",
    "                y.append(gauss2mf(x,self.parameter[i][0],self.parameter[i][1],self.parameter[i][2],self.parameter[i][3]))\n",
    "            if self.memFunc == 'gbellmf':\n",
    "                y.append(gbellmf(x,self.parameter[i][0],self.parameter[i][1],self.parameter[i][2]))\n",
    "            if self.memFunc == 'trimf':\n",
    "                y.append(trimf(x,self.parameter[i]))\n",
    "            if self.memFunc == 'trapmf':\n",
    "                y.append(trapmf(x,self.parameter[i]))\n",
    "        plt.figure(figsize=(8,5))\n",
    "        p = []\n",
    "        for j in range(self.numFunc):\n",
    "            plt.plot(x,y[j],label=self.memFunc+'_%d'%(j+1))\n",
    "        plt.legend()\n",
    "        \n",
    "    def calculate_MD(self,x):\n",
    "        \"\"\"\n",
    "            通过隶属度方程，计算隶属度集合\n",
    "        \"\"\"\n",
    "        y = []\n",
    "        for i in range(self.numFunc):\n",
    "            if self.memFunc == 'sigmf':\n",
    "                y.append(sigmf(x,self.parameter[i][0],self.parameter[i][1]))\n",
    "            if self.memFunc == 'zmf':\n",
    "                y.append(zmf(x,self.parameter[i][0],self.parameter[i][1]))\n",
    "            if self.memFunc == 'smf':\n",
    "                y.append(smf(x,self.parameter[i][0],self.parameter[i][1]))\n",
    "            if self.memFunc == 'gaussmf':\n",
    "                y.append(gaussmf(x,self.parameter[i][0],self.parameter[i][1]))\n",
    "            if self.memFunc == 'gauss2mf':\n",
    "                y.append(gauss2mf(x,self.parameter[i][0],self.parameter[i][1],self.parameter[i][2],self.parameter[i][3]))\n",
    "            if self.memFunc == 'gbellmf':\n",
    "                y.append(gbellmf(x,self.parameter[i][0],self.parameter[i][1],self.parameter[i][2]))\n",
    "            if self.memFunc == 'trimf':\n",
    "                y.append(trimf(x,self.parameter[i]))\n",
    "            if self.memFunc == 'trapmf':\n",
    "                y.append(trapmf(x,self.parameter[i]))\n",
    "        return np.array(y)"
   ]
  },
  {
   "cell_type": "code",
   "execution_count": 275,
   "id": "829c659e-c7af-45cd-b1c9-1e8b9ef3bb6e",
   "metadata": {},
   "outputs": [],
   "source": [
    "x = MemshipFC('gaussmf',[(0.33,0.092),(0.35,0.104),(0.312,0.097)],3)"
   ]
  },
  {
   "cell_type": "code",
   "execution_count": 276,
   "id": "16b68198-bbb2-4b2c-80a7-528c725d70b3",
   "metadata": {},
   "outputs": [
    {
     "name": "stdout",
     "output_type": "stream",
     "text": [
      "Successful seted!\n"
     ]
    }
   ],
   "source": [
    "x.setvariable(0,1,100)"
   ]
  },
  {
   "cell_type": "code",
   "execution_count": 277,
   "id": "d3896f1f-79d4-46d3-b409-215e6a6faa97",
   "metadata": {},
   "outputs": [
    {
     "data": {
      "image/png": "[encoded data removed]",
      "text/plain": [
       "<Figure size 576x360 with 1 Axes>"
      ]
     },
     "metadata": {
      "needs_background": "light"
     },
     "output_type": "display_data"
    }
   ],
   "source": [
    "x.MF_Plot()"
   ]
  },
  {
   "cell_type": "code",
   "execution_count": 278,
   "id": "24bc7223-7482-437d-915c-4f5a5ee63d79",
   "metadata": {},
   "outputs": [
    {
     "data": {
      "text/plain": [
       "Membership function 1: gaussmf, parameter:(0.33, 0.092) \n",
       "Membership function 2: gaussmf, parameter:(0.35, 0.104) \n",
       "Membership function 3: gaussmf, parameter:(0.312, 0.097) "
      ]
     },
     "execution_count": 278,
     "metadata": {},
     "output_type": "execute_result"
    }
   ],
   "source": [
    "x"
   ]
  },
  {
   "cell_type": "code",
   "execution_count": 279,
   "id": "5c06bc16-159e-4aa9-a17e-9925b8afd954",
   "metadata": {},
   "outputs": [
    {
     "data": {
      "text/plain": [
       "array([0.7487, 0.6877, 0.8662])"
      ]
     },
     "execution_count": 279,
     "metadata": {},
     "output_type": "execute_result"
    }
   ],
   "source": [
    "x.calculate_MD(0.26)"
   ]
  },
  {
   "cell_type": "code",
   "execution_count": null,
   "id": "f899c4ae-f059-4126-92b3-2d4742f3ad2e",
   "metadata": {},
   "outputs": [],
   "source": []
  },
  {
   "cell_type": "code",
   "execution_count": null,
   "id": "a48d0067-f1b2-446f-8104-3729058185c4",
   "metadata": {},
   "outputs": [],
   "source": []
  },
  {
   "cell_type": "code",
   "execution_count": null,
   "id": "caefece4-81fb-447e-8e1e-527125032829",
   "metadata": {},
   "outputs": [],
   "source": []
  },
  {
   "cell_type": "code",
   "execution_count": null,
   "id": "cbb632e3-5964-46e3-a23d-e8af7708b7e6",
   "metadata": {},
   "outputs": [],
   "source": []
  },
  {
   "cell_type": "code",
   "execution_count": null,
   "id": "655d10cf-61bd-48f7-bab5-47d97f33cad1",
   "metadata": {},
   "outputs": [],
   "source": []
  },
  {
   "cell_type": "code",
   "execution_count": null,
   "id": "428d7d77-d88d-43c9-adce-d38bbede5ed9",
   "metadata": {},
   "outputs": [],
   "source": []
  },
  {
   "cell_type": "code",
   "execution_count": null,
   "id": "61fc7950-9bc2-492f-add4-ba24ba05481c",
   "metadata": {},
   "outputs": [],
   "source": []
  },
  {
   "cell_type": "code",
   "execution_count": null,
   "id": "a46275f0-40ba-46b4-9793-1e0cc214c675",
   "metadata": {},
   "outputs": [],
   "source": []
  },
  {
   "cell_type": "code",
   "execution_count": null,
   "id": "3f810447-6d48-47fc-ad0b-86b378901ef3",
   "metadata": {},
   "outputs": [],
   "source": []
  },
  {
   "cell_type": "code",
   "execution_count": null,
   "id": "f0d08f9f-1add-478f-b2de-7b425c6324b6",
   "metadata": {},
   "outputs": [],
   "source": []
  },
  {
   "cell_type": "code",
   "execution_count": null,
   "id": "327e130d-f703-4330-b95d-673b9eb7f67b",
   "metadata": {},
   "outputs": [],
   "source": []
  },
  {
   "cell_type": "code",
   "execution_count": null,
   "id": "41f3c247-5555-4ca3-a042-33b606796f94",
   "metadata": {},
   "outputs": [],
   "source": []
  },
  {
   "cell_type": "code",
   "execution_count": null,
   "id": "3d7a0407-544b-4533-8bbe-ecffe7228ae2",
   "metadata": {},
   "outputs": [],
   "source": []
  },
  {
   "cell_type": "code",
   "execution_count": null,
   "id": "3fdd9d81-1e8e-4cbb-919d-5f476099c11c",
   "metadata": {},
   "outputs": [],
   "source": []
  },
  {
   "cell_type": "code",
   "execution_count": null,
   "id": "95315f67-710b-40a2-93dc-2568e4d7e806",
   "metadata": {},
   "outputs": [],
   "source": []
  }
 ],
 "metadata": {
  "kernelspec": {
   "display_name": "Python 3 (ipykernel)",
   "language": "python",
   "name": "python3"
  },
  "language_info": {
   "codemirror_mode": {
    "name": "ipython",
    "version": 3
   },
   "file_extension": ".py",
   "mimetype": "text/x-python",
   "name": "python",
   "nbconvert_exporter": "python",
   "pygments_lexer": "ipython3",
   "version": "3.8.12"
  },
  "vscode": {
   "interpreter": {
    "hash": "cee2e5c786832024d2415e640723866c22ce74ec891f4b35caef2801af6424c6"
   }
  }
 },
 "nbformat": 4,
 "nbformat_minor": 5
}
